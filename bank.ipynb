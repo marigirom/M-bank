{
 "cells": [
  {
   "cell_type": "code",
   "execution_count": null,
   "id": "f8e69d04-b2b0-4a1d-adea-8dfc8495e66c",
   "metadata": {},
   "outputs": [],
   "source": [
    "  '''                                      M-sacco: \n",
    "            Overview. \n",
    "This system will give you a brief application on the fundamentals of programming and various data structures as well as algorithms used in python programming language. \n",
    "The system operates on a  M-Sacco like manner where the information concerning the intended system is maintained in a local database. \n",
    "\n",
    "\n",
    "Business rules:\n",
    "1.\tA customer who has an account name and valid password can access his/her information details. \n",
    "2.\tA customer can only view his/her balances and transact money from his/her account only. \n",
    "3.\tA customer can update his/her account details. \n",
    "4.\tThe amount transferred by the customer must be less than his account balance. \n",
    "5.\tA loan will amount to a negative balance in the users account. \n",
    "6.\tThe spending rate of a user will be used to calculate how much loan he/she can apply for.\n",
    "                                                                                  \n",
    " Major operations:\n",
    "\tDeposit Money\n",
    "\tWithdraw money\n",
    "\tLoans \n",
    "\tPayments\n",
    "\tCheck balance. \n",
    "\tUsage details. \n",
    "\n",
    "'''"
   ]
  },
  {
   "cell_type": "code",
   "execution_count": 6,
   "id": "a4919d4b-b5be-4440-9e69-c24cc50fb67f",
   "metadata": {},
   "outputs": [],
   "source": [
    "account_information = {\n",
    "    'account_number':\"1200\", \n",
    "    'account_pin' : 1234,\n",
    "    \"username\" : \"Julius\", \n",
    "    'user_password': '1236', \n",
    "    'balance': 3000,\n",
    "}\n"
   ]
  },
  {
   "cell_type": "code",
   "execution_count": 81,
   "id": "c811ee44-19f7-4b24-a4c5-2c0ade4e79ee",
   "metadata": {},
   "outputs": [
    {
     "data": {
      "text/plain": [
       "'23:04:29'"
      ]
     },
     "execution_count": 81,
     "metadata": {},
     "output_type": "execute_result"
    }
   ],
   "source": [
    "import datetime\n",
    "time_now = datetime.datetime.now()\n",
    "todays_date = datetime.date.today()\n",
    "todays_date.strftime('%A, %d, %B, %Y')\n",
    "time_recieved = time_now.strftime(\"%X\")\n",
    "time_recieved"
   ]
  },
  {
   "cell_type": "code",
   "execution_count": 7,
   "id": "8f8ebdb3-a35b-4a15-b0d1-03db06f1c858",
   "metadata": {},
   "outputs": [],
   "source": [
    "class User_sacco:\n",
    "    def __init__(self, username, password):\n",
    "        self.user_name = username \n",
    "        self.user_password = password"
   ]
  },
  {
   "cell_type": "code",
   "execution_count": 114,
   "id": "46ad3f4b-9ee6-447e-a09b-d64dc025e81d",
   "metadata": {},
   "outputs": [],
   "source": [
    "class Sacco:\n",
    "    _agent_numbers = {\n",
    "            'kinoo':1234, \n",
    "            'kiambu': 2134, \n",
    "            'baraton_market': 1236\n",
    "        }\n",
    "    def __init(self, account_number=None):\n",
    "        self.account_number = account_number\n",
    "     \n",
    "    def __str__(self):\n",
    "        return f'selected account number: {self.account_number}'\n",
    "\n",
    "# lets first log in to the user account so that he/she can view the available options \n",
    "    def user_login(self, acc_number, acc_pin):\n",
    "        self.account_number = acc_number \n",
    "        self.account_pin = acc_pin\n",
    "        for k in account_information:\n",
    "            if account_information[k]== self.account_number and account_information['account_pin'] ==self.account_pin:\n",
    "                print(f'welcome{account_information ['username']}')\n",
    "                return 1\n",
    "                break\n",
    "            elif  account_information[k]== self.account_number and account_information['account_pin'] != self.account_pin:\n",
    "                print(\"incorrect password\")\n",
    "                break\n",
    "            else:\n",
    "                print(\"invalid_account_details\")\n",
    "                break\n",
    "\n",
    "    # ensure the user can only access his/her own account details \n",
    "    def check_account_balance(self):\n",
    "        if account_information['account_number'] == self.account_number:\n",
    "            print(f'your balance is {account_information['balance']}')\n",
    "            \n",
    "        "
   ]
  },
  {
   "cell_type": "code",
   "execution_count": null,
   "id": "a29467ac-7493-487d-acaf-dacb4c62c485",
   "metadata": {},
   "outputs": [],
   "source": [
    "class UserAccount(Sacco):\n",
    "    def __init__(self, account_number, pin):\n",
    "        self.account_number = account_number\n",
    "        self.account_pin = pin\n",
    "        self.account_information_for_acc123 = {\n",
    "            'account_number':\"1200\", \n",
    "            'account_pin' : 1234,\n",
    "            \"username\" : \"Julius\", \n",
    "            'user_password': '1236', \n",
    "            'balance': 3000,\n",
    "        }\n",
    "\n",
    "\n",
    "\n",
    "\n",
    "\n",
    "    def view_account_details(self):\n",
    "        \n",
    "        my_balance =self.account_information_for_acc123['balance']\n",
    "        username = self.account_information_for_acc123['username']\n",
    "\n",
    "        message= f'Dear {username} your balance as of  is  ksh{my_balance}'\n",
    "        print(message)\n",
    "\n",
    "    def withdraw_money(self):\n",
    "        # you have to provide withdrawal details \n",
    "        # each transaction will require a pin to complete\n",
    "        agent_number = input(\"Enter agent number::   \")\n",
    "        if  self.__agent_numbers:\n",
    "            print(f'are you sure you want to withdraw money from {self.__agent_numbers}')"
   ]
  },
  {
   "cell_type": "code",
   "execution_count": null,
   "id": "1793046a-4e24-4360-9d00-c543ca46396f",
   "metadata": {},
   "outputs": [],
   "source": [
    "user1 = Sacco()\n",
    "user1.user_login(acc_number = '1200', acc_pin=1234)\n",
    "user1.check_account_balance()"
   ]
  },
  {
   "cell_type": "code",
   "execution_count": null,
   "id": "ee939a29-e942-4b3a-97dd-3c943dcd3b57",
   "metadata": {},
   "outputs": [],
   "source": [
    "user2= UserAccount('1200', 1234)\n",
    "user2.view_account_details()\n",
    "user2.withdraw_money()\n"
   ]
  },
  {
   "cell_type": "code",
   "execution_count": null,
   "id": "e11e47c3-ee6c-41bb-bd4f-b1afbdc0ef78",
   "metadata": {},
   "outputs": [],
   "source": []
  }
 ],
 "metadata": {
  "kernelspec": {
   "display_name": "Python 3 (ipykernel)",
   "language": "python",
   "name": "python3"
  },
  "language_info": {
   "codemirror_mode": {
    "name": "ipython",
    "version": 3
   },
   "file_extension": ".py",
   "mimetype": "text/x-python",
   "name": "python",
   "nbconvert_exporter": "python",
   "pygments_lexer": "ipython3",
   "version": "3.12.4"
  }
 },
 "nbformat": 4,
 "nbformat_minor": 5
}
